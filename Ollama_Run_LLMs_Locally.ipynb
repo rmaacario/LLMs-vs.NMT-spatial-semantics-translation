{
  "nbformat": 4,
  "nbformat_minor": 0,
  "metadata": {
    "colab": {
      "private_outputs": true,
      "provenance": [],
      "machine_shape": "hm",
      "gpuType": "T4",
      "authorship_tag": "ABX9TyMIlu2pOEv71f9r7dSd467Z",
      "include_colab_link": true
    },
    "kernelspec": {
      "name": "python3",
      "display_name": "Python 3"
    },
    "language_info": {
      "name": "python"
    },
    "accelerator": "GPU"
  },
  "cells": [
    {
      "cell_type": "markdown",
      "metadata": {
        "id": "view-in-github",
        "colab_type": "text"
      },
      "source": [
        "<a href=\"https://colab.research.google.com/github/rmaacario/spatial-semantics-translation/blob/main/Ollama_Run_LLMs_Locally.ipynb\" target=\"_parent\"><img src=\"https://colab.research.google.com/assets/colab-badge.svg\" alt=\"Open In Colab\"/></a>"
      ]
    },
    {
      "cell_type": "code",
      "source": [
        "gpu_info = !nvidia-smi\n",
        "gpu_info = '\\n'.join(gpu_info)\n",
        "if gpu_info.find('failed') >= 0:\n",
        "  print('Not connected to a GPU')\n",
        "else:\n",
        "  print(gpu_info)"
      ],
      "metadata": {
        "id": "HM5BlajORO5p"
      },
      "execution_count": null,
      "outputs": []
    },
    {
      "cell_type": "code",
      "source": [
        "from psutil import virtual_memory\n",
        "ram_gb = virtual_memory().total / 1e9\n",
        "print('Your runtime has {:.1f} gigabytes of available RAM\\n'.format(ram_gb))\n",
        "\n",
        "if ram_gb < 20:\n",
        "  print('Not using a high-RAM runtime')\n",
        "else:\n",
        "  print('You are using a high-RAM runtime!')"
      ],
      "metadata": {
        "id": "FXOMFVyGVHIe"
      },
      "execution_count": null,
      "outputs": []
    },
    {
      "cell_type": "code",
      "execution_count": null,
      "metadata": {
        "id": "FX31f-1cCqaR"
      },
      "outputs": [],
      "source": [
        "!curl -fsSL https://ollama.com/install.sh | sh"
      ]
    },
    {
      "cell_type": "code",
      "source": [
        "!pip install colab-xterm\n",
        "%load_ext colabxterm"
      ],
      "metadata": {
        "id": "TsP_jsK8ESb0"
      },
      "execution_count": null,
      "outputs": []
    },
    {
      "cell_type": "code",
      "source": [
        "# ollama serve & ollama run llama3:instruct"
      ],
      "metadata": {
        "id": "3rdrtSi0M61u"
      },
      "execution_count": null,
      "outputs": []
    },
    {
      "cell_type": "code",
      "source": [
        "%xterm"
      ],
      "metadata": {
        "id": "-uswaE0ICzjs"
      },
      "execution_count": null,
      "outputs": []
    },
    {
      "cell_type": "code",
      "source": [
        "!pip install langchain_community"
      ],
      "metadata": {
        "id": "oh70TEkkF63b",
        "collapsed": true
      },
      "execution_count": null,
      "outputs": []
    },
    {
      "cell_type": "code",
      "source": [
        "from langchain_community.llms import Ollama"
      ],
      "metadata": {
        "id": "Id-cje01GG5P"
      },
      "execution_count": null,
      "outputs": []
    },
    {
      "cell_type": "code",
      "source": [
        "#mixtral = Ollama(model = \"mixtral\")"
      ],
      "metadata": {
        "id": "KEV5iuSStlTy"
      },
      "execution_count": null,
      "outputs": []
    },
    {
      "cell_type": "code",
      "source": [
        "llama3 = Ollama(model = \"llama3\")"
      ],
      "metadata": {
        "id": "1jAWubj-GYLR"
      },
      "execution_count": null,
      "outputs": []
    },
    {
      "cell_type": "code",
      "source": [
        "llama3.invoke(\"Hello!\")"
      ],
      "metadata": {
        "id": "5YihWc2VHBVm"
      },
      "execution_count": null,
      "outputs": []
    },
    {
      "cell_type": "code",
      "source": [
        "text = \"He swam across the river.\""
      ],
      "metadata": {
        "id": "pVzgySmJupis"
      },
      "execution_count": null,
      "outputs": []
    },
    {
      "cell_type": "code",
      "source": [
        "#source_text = df['source'][1987]\n",
        "llama3.invoke(f\"You are a professional translator. Translate the following text from English to Portuguese: {text}. Provide only ONE translation. DON'T add any additional comments, observations or translations.\")"
      ],
      "metadata": {
        "id": "eRjaEGByLh9f"
      },
      "execution_count": null,
      "outputs": []
    },
    {
      "cell_type": "code",
      "source": [
        "def translate_text(row, model):\n",
        "    source_text = row['source']\n",
        "    print(f\"Translating row {row.name}...\")\n",
        "    translation_text = model.invoke(f\"You are a professional translator. Translate the following text from English to Portuguese: {source_text}. Provide only ONE translation. DON'T add any additional comments, observations or translations.\")\n",
        "    # Remove leading whitespace (including newline characters) from the translation\n",
        "    translation_text = translation_text.strip()\n",
        "    # Return the translation\n",
        "    return translation_text"
      ],
      "metadata": {
        "id": "ZqpeSsonJUbe"
      },
      "execution_count": null,
      "outputs": []
    },
    {
      "cell_type": "code",
      "source": [
        "from google.colab import files\n",
        "\n",
        "df['llama3'] = df.iloc[1500:2000].apply(lambda row: translate_text(row, llama3), axis=1)\n",
        "\n",
        "df.to_csv(path, index=False)\n",
        "print(\"DataFrame exported to\", path)\n",
        "files.download(path)"
      ],
      "metadata": {
        "id": "IBnaMUv0ukzR"
      },
      "execution_count": null,
      "outputs": []
    },
    {
      "cell_type": "code",
      "source": [],
      "metadata": {
        "id": "teNqYfDCHN7A"
      },
      "execution_count": null,
      "outputs": []
    }
  ]
}